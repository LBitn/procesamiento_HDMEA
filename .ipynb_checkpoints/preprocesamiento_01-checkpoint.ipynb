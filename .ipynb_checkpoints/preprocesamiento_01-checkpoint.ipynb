{
 "cells": [
  {
   "cell_type": "markdown",
   "metadata": {},
   "source": [
    "# pre-procesamiento 01\n",
    "#=\n",
    "El preprocesamiento consiste en acomodar los datos brw en una matriz que contenga 4096 filas\n",
    "(una por cada canal) y n columnas (una por cada cuadro muestral).\n",
    "Una vez organizados, se cortan fragmentos de 4096(n/m) donde m es divisor de n. El objetivo \n",
    "es obtener archivos de tamaño manejable tanto en tamaño muestral como en espacio de \n",
    "almacenamiento en disco y que no sature la memoria del equipo.\n",
    "En este caso están almacenados en formato Float16\n",
    "=#"
   ]
  },
  {
   "cell_type": "code",
   "execution_count": 2,
   "metadata": {
    "scrolled": true
   },
   "outputs": [
    {
     "name": "stderr",
     "output_type": "stream",
     "text": [
      "┌ Info: Precompiling AllFunctions [top-level]\n",
      "└ @ Base loading.jl:1273\n"
     ]
    }
   ],
   "source": [
    "SCPpath = \"/home/isabel/Dropbox/Proyects/Romero-Gutierrez/Scripts/Preprocesamiento/\" # path to SCPs\n",
    "cd( SCPpath )\n",
    "push!( LOAD_PATH, \".\" ); # folder que continen los modulos. Correr desde ahí dentro.\n",
    "#\n",
    "using AllFunctions # modulo personal\n",
    "using JLD; # paquetes a usar en el script"
   ]
  },
  {
   "cell_type": "code",
   "execution_count": 3,
   "metadata": {},
   "outputs": [],
   "source": [
    "Γ = OS( \"linux\" ); # establecer SO a usar...es para mi lap si?\n",
    "BRWpath = \"/home/isabel/Desktop/200819/\" # path donde están los experimentos\n",
    "cd( BRWpath ) \n",
    "BRWfiles = find_files(BRWpath, \"brw\", Γ ); # todos los exp\n",
    "BRWname = BRWfiles[ 1 ]; # solo uno, se puede hacer loop\n",
    "# Crear ahi folder para guardar cachos (uno para cada exp)\n",
    "BRWpath = string( split( BRWname, \".\" )[ 1 ], Γ, \"Process\" ); \n",
    "checkpath( BRWpath ); # checar si el folder para guardar los cachos existe\n",
    "\n",
    "#= variables del experimento para guardar al final con cada cacho, \n",
    "para evitar cargar el brw cada vez. En \"dset\" va el nombre del experimento =#\n",
    "\n",
    "ν = brw_things( BRWname ); # variables útiles\n",
    "ξ = ν[ \"Chs\" ]; # canales en numero, coord1, coord2\n",
    "Σ = ν[ \"dset\" ]; # path al dataset (NO READ! to much)\n",
    "ζ = ν[ \"Factor\" ]; # variables para...\n",
    "ο = ν[ \"Offset\" ]; # conversión de voltaje\n",
    "T = Int( size( Σ, 1 )/size( ξ, 1 ) ); # verdadero tiempo registrado\n",
    "SR = round( ν[ \"SamplingRate\" ][ ], digits = 1 ); # .......Sampling Rate u k... "
   ]
  },
  {
   "cell_type": "code",
   "execution_count": null,
   "metadata": {},
   "outputs": [],
   "source": [
    "# tratando de encontrar un tamaño adecuado de cacho.\n",
    "\n",
    "if isinteger( SR ) # así, se tienen cachos de 1 segundo\n",
    "    if isinteger( T/SR )\n",
    "        n_segments = Int.( T/SR );\n",
    "        println( \" Los cachos serán de 1 segundo \" )\n",
    "    end\n",
    "elseif isinteger( T/floor( SR ) ) \n",
    "    n_segments = Int.( T/floor( SR ) );\n",
    "    println( \" Los cachos serán ~ 1 segundo \" )\n",
    "elseif isinteger( T/ceil( SR ) )\n",
    "    n_segments = Int.( T/ceil( SR ) );\n",
    "    println( \" Los cachos serán ~ 1 segundo \" )\n",
    "else # si no, se hace un merequetengue\n",
    "    div_T = div_n_ab( T );\n",
    "    div_sec = div_T/SR;\n",
    "    # rango de numero cachos que se quieren cortar, normalmente alto para tranajar a gusto\n",
    "    hi = 4; lo = 2; # segundos\n",
    "    if !isempty( div_T )\n",
    "        # busca uno de los divisores de frames dentro del rango\n",
    "        selected_divs = div_T[ findall( hi .>= div_sec .>= lo ) ];\n",
    "    end\n",
    "    if !isempty( selected_divs ) # si hubo, agarra el primero\n",
    "        n_segments = Int(T/selected_divs[ 1 ]);\n",
    "        println( \" Los cachos serán de \", ( ( T/SR )/n_segments ) ,\" segundos \" )\n",
    "    else # si no hubo, uno predeterminado ya que\n",
    "        n_segments = 60;\n",
    "        println( \" Los cachos serán de \", ( ( T/SR )/n_segments ) ,\" segundos \" )\n",
    "    end\n",
    "end\n",
    "#"
   ]
  },
  {
   "cell_type": "code",
   "execution_count": null,
   "metadata": {},
   "outputs": [],
   "source": [
    "# numero de espacios que ocupa el numero de segundos de duracion del experimento\n",
    "n_char = length( string( Int( floor( T/SR ) ) ) ); \n",
    "# numero de espacios que ocupa el numero de cachos \n",
    "n_bins = length( string( n_segments ) );\n",
    "ω = Int(ceil( T/n_segments ) ); # numero de frames finales (tamaño del cacho en frames)\n",
    "ε = zeros( Int, n_segments, 2 ); # preallocate\n",
    "ε[ :, 1 ] = collect( 1:ω:T ); # inicio y \n",
    "ε[ :, 2 ] = ε[ :, 1 ] .+ ω .- 1; # fin en frames de cada cacho (para cortar)\n",
    "if !isinteger( T/n_segments )\n",
    "    println(\"El ultimo cacho es más chico\")\n",
    "    ε[ end, 2 ] = T; # fin en frames de cada cacho (para cortar)\n",
    "end"
   ]
  },
  {
   "cell_type": "code",
   "execution_count": null,
   "metadata": {},
   "outputs": [],
   "source": [
    "for i = 1:n_segments # numero de B a cortar (1-> 4096,1->ω)\n",
    "    BIN = zeros( size( ξ, 1 ), ω ); # preallocate\n",
    "    # valores correspondientes al BIN especifico\n",
    "    # el canal 1,1 tiene el frame 1, 4097, 8193...etc\n",
    "    β = collect( ( ε[ i, 1 ] - 1 ):1:ε[ i, 2 ] ); \n",
    "    for j = 1:ω\n",
    "        # saca esos frames del machote seguido Σ, y ponlos en array en BIN\n",
    "        BIN[ :, j ] = Σ[ ( β[ j ]*size( ξ, 1 ) ) + 1:( size( ξ, 1 )*β[ j + 1 ] ) ];\n",
    "    end\n",
    "    BIN = Float16.( ( BIN.*ζ ) .+ ο ); # conversion a volaje\n",
    "    ini = lpad( string( Int(floor( ( β[ 1 ] )/SR ) ), \"s\" ), n_char + 1, \"0\" );\n",
    "    eni = lpad( string( Int( floor( ( β[ end ] + 1 )/SR ) ), \"s\" ), n_char + 1, \"0\" );\n",
    "    bin_time = string( ini,\"-\",eni );\n",
    "    BINname = string( BRWpath, Γ, \"BIN\", lpad(i, n_bins, \"0\" ), \"_\", bin_time, \".jld\" );     \n",
    "    @time save( BINname, \"data\", BIN );\n",
    "    println( lpad(i, n_bins, \"0\" ), \" of \", n_segments, \" saved\" );\n",
    "end"
   ]
  },
  {
   "cell_type": "code",
   "execution_count": null,
   "metadata": {},
   "outputs": [],
   "source": [
    "Varsname = string(BRWpath, Γ ,\"vars.jld\"); # Salvando las variables de interés\n",
    "save(Varsname,\"vars\", ν)\n",
    "println( \" Variables saved. \");"
   ]
  }
 ],
 "metadata": {
  "kernelspec": {
   "display_name": "Julia 1.3.0",
   "language": "julia",
   "name": "julia-1.3"
  },
  "language_info": {
   "file_extension": ".jl",
   "mimetype": "application/julia",
   "name": "julia",
   "version": "1.3.1"
  }
 },
 "nbformat": 4,
 "nbformat_minor": 2
}
