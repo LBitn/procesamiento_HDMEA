{
 "cells": [
  {
   "cell_type": "code",
   "execution_count": 1,
   "metadata": {},
   "outputs": [
    {
     "data": {
      "text/plain": [
       "Main.BRW_things"
      ]
     },
     "execution_count": 1,
     "metadata": {},
     "output_type": "execute_result"
    }
   ],
   "source": [
    "module BRW_things\n",
    "\n",
    "using HDF5\n",
    "function brw_things( file_brw::String ) # depende de brw file\n",
    "\tbrw = h5open( file_brw, \"r\" );\n",
    "\t# channels and coords for each one\n",
    "\tChs = read( brw[ \"/3BRecInfo/3BMeaStreams/RawRanges\" ] )[ \"Chs\" ]; \n",
    "\tVC = read( brw[ \"/3BData/3BInfo/3BNoise/ValidChs\" ] ); # Valid Channels (software)\n",
    "    dset = brw[ \"3BData/RawEncoded\" ];\n",
    "\t# numero real de frames registrados\n",
    "\tRawEncodedTOC = read( brw[ \"/3BData/RawEncodedTOC\" ] )[ 2 ]; \n",
    "\tRecVars = read( brw[ \"/3BRecInfo/3BRecVars\" ] );\n",
    "\tSI = RecVars[ \"SignalInversion\" ][ ];\n",
    "\tmV = RecVars[ \"MinVolt\" ][ ];\n",
    "\tMV = RecVars[ \"MaxVolt\" ][ ];\n",
    "\tBD = RecVars[ \"BitDepth\" ][ ];\n",
    "    Offset = SI*mV;\n",
    "    Factor = SI*( MV - mV )/( 2^BD );\n",
    "    NRecFrames = RecVars[ \"NRecFrames\" ][ ]; # numero propuesto de cuadros registrados\n",
    "    SamplingRate = RecVars[ \"SamplingRate\" ][ ];\n",
    "    BRWname = dset.file.filename;\n",
    "    \n",
    "\tvars = Dict(\n",
    "        \"Offset\"        => Offset,\n",
    "        \"Factor\"        => Factor,\n",
    "        \"NRecFrames\"    => NRecFrames,\n",
    "        \"SamplingRate\"  => SamplingRate,\n",
    "        \"Chs\"   \t    => Chs,\n",
    "\t\t\"VC\" \t        => VC,\n",
    "        \"RawEncodedTOC\" => RawEncodedTOC,\n",
    "        \"BRWname\"       => file_brw,\n",
    "        \"MaxVolt\"       => MV,\n",
    "        \"MinVolt\"       => mV\n",
    "    );\n",
    "    return vars\n",
    "end\n",
    "export brw_things\n",
    "end"
   ]
  }
 ],
 "metadata": {
  "kernelspec": {
   "display_name": "Julia 1.3.1",
   "language": "julia",
   "name": "julia-1.3"
  },
  "language_info": {
   "file_extension": ".jl",
   "mimetype": "application/julia",
   "name": "julia",
   "version": "1.3.1"
  }
 },
 "nbformat": 4,
 "nbformat_minor": 2
}
