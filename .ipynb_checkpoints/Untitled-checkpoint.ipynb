{
 "cells": [
  {
   "cell_type": "markdown",
   "metadata": {},
   "source": [
    "# Obtenci'on, umbral din'amico. Ventanas de distintas duraciones"
   ]
  },
  {
   "cell_type": "code",
   "execution_count": 1,
   "metadata": {},
   "outputs": [],
   "source": [
    "# path to SCPs\n",
    "SCPpath = \"/home/isabel/Dropbox/Proyects/Romero-Gutierrez/Scripts/Preprocesamiento/\"\n",
    "cd( SCPpath )\n",
    "push!( LOAD_PATH, \".\" ); # folder que continen los modulos. Correr desde ahí dentro.\n",
    "using AllFunctions # modulo personal\n",
    "using JLD, Statistics, StatsBase\n",
    "Γ = OS( \"linux\" ); # establecer SO \n",
    "BRWpath = \"/home/isabel/Desktop/200819/\" # path donde están los experimentos\n",
    "BRWdirs = find_dirs( BRWpath, Γ ); # todos los exp ya con carpeta propia (output de pp01)\n",
    "#\n",
    "if isempty( BRWdirs )\n",
    "    error(\" Run preprocesamiento_01 first \")\n",
    "end\n",
    "#\n",
    "A = 1; # para seleccionar que brw (ya en cachos) se vá a desaturar\n",
    "NoSatpath = string( BRWdirs[ A ], Γ, \"NoSat\" ); # solo en primero, se puede hacer loop!\n",
    "Varspath = string( BRWdirs[ A ], Γ, \"Vars\" );\n",
    "#\n",
    "if !isdir(NoSatpath)\n",
    "    error(\" NoSat folder not found, run preprocesamiento_02 first \")\n",
    "else\n",
    "    JLDfiles = find_files( NoSatpath, \"jld\", Γ ); # todos los cachos\n",
    "end\n",
    "#\n",
    "if !isdir( Varspath )\n",
    "    error( \"No Vars folder yet, is output of pp01, soooo.....\" );\n",
    "else\n",
    "    vars = load( string( Varspath, Γ, \"vars.jld\" ) )[ \"vars\" ];\n",
    "    NoSubs = load( string( Varspath, Γ, \"NoChFr.jld\" ) );\n",
    "    SamplingRate = vars[ \"SamplingRate\" ];\n",
    "end\n",
    "#\n",
    "Eventspath = string( BRWdirs[ A ], Γ, \"Events\" );\n",
    "checkpath( Eventspath )\n",
    "#\n",
    "### Cambia el nombre de la carpeta de salida dependiendo del an'alisis a realizar\n",
    "\n",
    "# preguntar que tipo de datos (filtrados, que filtro, crudos...)\n",
    "Outputpath = string( Eventspath, Γ, \"DYN_RAW\" ); \n",
    "checkpath( Outputpath )\n",
    "#\n",
    ";"
   ]
  },
  {
   "cell_type": "code",
   "execution_count": 3,
   "metadata": {},
   "outputs": [],
   "source": [
    "B = 1\n",
    "NoChs = sort( NoSubs[ \"SatChs\" ][ B ] );\n",
    "data = load( JLDfiles[ B ] )[ \"data\" ];\n",
    "C = 3000\n",
    "channel = data[ C, : ];"
   ]
  },
  {
   "cell_type": "code",
   "execution_count": 4,
   "metadata": {},
   "outputs": [],
   "source": [
    "ts = size( channel, 1 ); # numero de frames en el canal\n",
    "lims_ws = [ 5 500 ];\n",
    "# posibles tama'nos de ventana en frames. Los rangos estan dados en lims_ws en milisegundos\n",
    "pws = round.( \n",
    "    Int, ( ( collect( lims_ws[ 1 ]:lims_ws[ 2 ] )./1000 ).*SamplingRate )\n",
    "); \n",
    "# numero de frames restantes despues de quitar el tamano de la ventana (1 vez)\n",
    "ts_ww = ts .- pws;\n",
    "# potenciales tamanos del bin de recorrimiento. \n",
    "# Se depura dentro de un rango de bin en ms, rbs\n",
    "pbs = divs0prime.( ts_ww );\n",
    "rbs = [ 1 5 ];\n",
    "rbs = round.( Int, SamplingRate .* ( rbs ./ 1000 ) );\n",
    "# se toma los potenciales tamanos de bin para la ventana pws"
   ]
  },
  {
   "cell_type": "code",
   "execution_count": 5,
   "metadata": {},
   "outputs": [
    {
     "data": {
      "text/plain": [
       "805×2 Array{Int64,2}:\n",
       " 18    89\n",
       " 18   107\n",
       " 23   107\n",
       " 36   107\n",
       " 43   107\n",
       " 46   107\n",
       " 69   107\n",
       " 86   107\n",
       " 18   125\n",
       " 27   125\n",
       " 54   125\n",
       " 18   143\n",
       " 19   143\n",
       "  ⋮      \n",
       " 76  8731\n",
       " 26  8749\n",
       " 34  8749\n",
       " 61  8749\n",
       " 32  8767\n",
       " 64  8767\n",
       " 28  8803\n",
       " 31  8803\n",
       " 62  8803\n",
       " 77  8838\n",
       " 41  8856\n",
       " 47  8874"
      ]
     },
     "execution_count": 5,
     "metadata": {},
     "output_type": "execute_result"
    }
   ],
   "source": [
    "all_pos = [ 0 0 ];\n",
    "for i = 1:size( pbs, 1 )\n",
    "    if !isempty( pbs[ i ] )\n",
    "        #= se seleccionan los posibles bin sizes que quepan dentro del rango rbs, \n",
    "        en este caso mayores a 1 ms menores a 5 ms =#\n",
    "        pbs_dep = pbs[ i ][ rbs[ 1 ] .<= pbs[ i ] .<= rbs[ 2 ] ];\n",
    "        if !isempty( pbs_dep )\n",
    "            # [ bin size, window size ]\n",
    "            temp = hcat( pbs_dep, repeat( [ pws[ i ] ], size( pbs_dep, 1 ) ) );\n",
    "            all_pos = vcat( all_pos, temp );\n",
    "        end\n",
    "    end\n",
    "end\n",
    "all_pos = all_pos[ 2:end, : ]"
   ]
  },
  {
   "cell_type": "code",
   "execution_count": 9,
   "metadata": {},
   "outputs": [],
   "source": [
    "list_ws = unique( all_pos[ :, 2 ] );"
   ]
  },
  {
   "cell_type": "code",
   "execution_count": 32,
   "metadata": {},
   "outputs": [],
   "source": [
    "d = collect( 1:100 );\n",
    "w = weights( ones( Int, size( d ) ) );\n",
    "e = collect( 0:10:100 );\n",
    "h = fit( Histogram, d, w, e, closed = :right );"
   ]
  },
  {
   "cell_type": "code",
   "execution_count": 55,
   "metadata": {},
   "outputs": [
    {
     "ename": "MethodError",
     "evalue": "MethodError: no method matching view(::Histogram{Int64,1,Tuple{Array{Int64,1}}})\nClosest candidates are:\n  view(!Matched::AbstractArray, !Matched::Any...) where N at subarray.jl:155",
     "output_type": "error",
     "traceback": [
      "MethodError: no method matching view(::Histogram{Int64,1,Tuple{Array{Int64,1}}})\nClosest candidates are:\n  view(!Matched::AbstractArray, !Matched::Any...) where N at subarray.jl:155",
      "",
      "Stacktrace:",
      " [1] top-level scope at In[55]:1"
     ]
    }
   ],
   "source": []
  },
  {
   "cell_type": "code",
   "execution_count": 56,
   "metadata": {},
   "outputs": [
    {
     "ename": "UndefVarError",
     "evalue": "UndefVarError: partition not defined",
     "output_type": "error",
     "traceback": [
      "UndefVarError: partition not defined",
      "",
      "Stacktrace:",
      " [1] top-level scope at ./In[56]:1"
     ]
    }
   ],
   "source": [
    "for i in partition(1:9, 3, 2)\n",
    "           @show i\n",
    "       end"
   ]
  },
  {
   "cell_type": "code",
   "execution_count": null,
   "metadata": {},
   "outputs": [],
   "source": []
  },
  {
   "cell_type": "code",
   "execution_count": 51,
   "metadata": {},
   "outputs": [
    {
     "data": {
      "text/plain": [
       "10-element Array{Int64,1}:\n",
       " 1\n",
       " 1\n",
       " 1\n",
       " 1\n",
       " 1\n",
       " 1\n",
       " 1\n",
       " 1\n",
       " 1\n",
       " 1"
      ]
     },
     "execution_count": 51,
     "metadata": {},
     "output_type": "execute_result"
    }
   ],
   "source": []
  },
  {
   "cell_type": "code",
   "execution_count": null,
   "metadata": {},
   "outputs": [],
   "source": [
    "counts(x::IntegerArray, levels::IntUnitRange) =\n",
    "    addcounts!(zeros(Int, length(levels)), x, levels)"
   ]
  }
 ],
 "metadata": {
  "kernelspec": {
   "display_name": "Julia 1.3.1",
   "language": "julia",
   "name": "julia-1.3"
  },
  "language_info": {
   "file_extension": ".jl",
   "mimetype": "application/julia",
   "name": "julia",
   "version": "1.3.1"
  }
 },
 "nbformat": 4,
 "nbformat_minor": 2
}
