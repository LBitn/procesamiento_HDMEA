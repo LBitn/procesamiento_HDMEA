{
 "cells": [
  {
   "cell_type": "code",
   "execution_count": 2,
   "metadata": {},
   "outputs": [],
   "source": [
    "# path to SCPs\n",
    "SCPpath = \"/home/isabel/Dropbox/Proyects/Romero-Gutierrez/Scripts/Preprocesamiento/\"\n",
    "cd( SCPpath )\n",
    "push!( LOAD_PATH, \".\" ); # folder que continen los modulos. Correr desde ahí dentro.\n",
    "using AllFunctions # modulo personal\n",
    "using JLD"
   ]
  },
  {
   "cell_type": "code",
   "execution_count": null,
   "metadata": {},
   "outputs": [],
   "source": [
    "Γ = OS( \"linux\" ); # establecer SO \n",
    "BRWpath = \"/home/isabel/Desktop/200819/\" # path donde están los experimentos\n",
    "BRWdirs = find_dirs( BRWpath, Γ ); # todos los exp ya con carpeta propia (output de pp01)\n",
    "#\n",
    "if isempty( BRWdirs )\n",
    "    error(\" Run preprocesamiento_01 first \")\n",
    "end\n",
    "#\n",
    "A = 1; # para seleccionar que brw (ya en cachos) se vá a desaturar\n",
    "#NoSatpath = string( BRWdirs[ A ], Γ, \"NoSat\" ); # solo en primero, se puede hacer loop!\n",
    "Varspath = string( BRWdirs[ A ], Γ, \"Vars\" );\n",
    "#\n",
    "if !isdir( Varspath )\n",
    "    error( \"No Vars folder yet, is output of pp01, soooo.....\" );\n",
    "else\n",
    "    vars = load( string( Varspath, Γ, \"vars.jld\" ) )[ \"vars\" ];\n",
    "    NoSubs = load( string( Varspath, Γ, \"NoChFr.jld\" ) );\n",
    "    SamplingRate = vars[ \"SamplingRate\" ];\n",
    "end\n",
    "#\n",
    "Eventspath = string( BRWdirs[ A ], Γ, \"Events\" );\n",
    "B = 1\n",
    "if !isempty( find_dirs( Eventspath, Γ ) )\n",
    "    EventPath = find_dirs( Eventspath, Γ )[ B ];\n",
    "    JLDfiles = find_files( EventPath, \"jld\", Γ);\n",
    "else\n",
    "    error( \"There is no files for detected events. Run pp03 first\" );\n",
    "end\n",
    ";"
   ]
  },
  {
   "cell_type": "code",
   "execution_count": null,
   "metadata": {},
   "outputs": [],
   "source": [
    "chnames = string.( vars[ \"Chs\" ][ :, 1 ] );\n",
    "TEMPchannel = zeros( Int, vars[ \"RawEncodedTOC\" ] );\n",
    "TEMPevents = zeros( Int, size( vars[ \"Chs\" ], 1 ), size( JLDfiles, 1 ) );\n",
    "\n",
    "for C = 1:size( JLDfiles, 1 )\n",
    "    @time data = load( JLDfiles[ C ] );\n",
    "    Events = data[ \"Events\" ];\n",
    "    MAYBES = Int.( data[ \"Channels\" ][ :, 1 ] );\n",
    "    TEMPevents[ :, C ] = MAYBES;\n",
    "    for D = 1:size( chnames, 1 )\n",
    "        if !isempty( Events[ chnames[ D ] ][ \"Fr_Vol\" ] )\n",
    "            TEMPchannel[ \n",
    "            Int.( Events[ chnames[ D ] ][ \"Fr_Vol\" ][ :, 1 ] ) ] .= TEMPchannel[ \n",
    "            Int.( Events[ chnames[ D ] ][ \"Fr_Vol\" ][ :, 1 ] ) ]  .+ 1;\n",
    "        end\n",
    "    end\n",
    "end"
   ]
  },
  {
   "cell_type": "code",
   "execution_count": null,
   "metadata": {},
   "outputs": [],
   "source": []
  },
  {
   "cell_type": "code",
   "execution_count": null,
   "metadata": {},
   "outputs": [],
   "source": []
  },
  {
   "cell_type": "code",
   "execution_count": null,
   "metadata": {},
   "outputs": [],
   "source": []
  },
  {
   "cell_type": "code",
   "execution_count": null,
   "metadata": {},
   "outputs": [],
   "source": []
  }
 ],
 "metadata": {
  "kernelspec": {
   "display_name": "Julia 1.3.1",
   "language": "julia",
   "name": "julia-1.3"
  },
  "language_info": {
   "file_extension": ".jl",
   "mimetype": "application/julia",
   "name": "julia",
   "version": "1.3.1"
  }
 },
 "nbformat": 4,
 "nbformat_minor": 2
}
