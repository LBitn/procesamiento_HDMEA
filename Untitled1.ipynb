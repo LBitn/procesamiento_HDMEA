{
 "cells": [
  {
   "cell_type": "code",
   "execution_count": null,
   "metadata": {},
   "outputs": [],
   "source": [
    "using Plots\n",
    "sigma = -3;\n",
    "y1 = [ sigma.*abs( percentile( data[ 3000, : ], 33 ) ) ];\n",
    "y1 = repeat( y1, size( data[ 3000, : ], 1 ) );\n",
    "y2 = [ sigma.*abs( mean( data[ 3000, : ] ) ) ];\n",
    "y2 = repeat( y2, size( data[ 3000, : ], 1 ) );\n",
    "y3 = [ sigma.*abs(median( abs.( Float32.( data[3000,:] ) ) ) ./ 0.6745) ];\n",
    "y3 = repeat( y3, size( data[ 3000, : ], 1 ) );\n",
    "plot( data[ 3000, : ], title = \"Raw data\", lab = \"Raw\" );\n",
    "hline!( y1, line = ( 3, [ :red ] ), lab = \"33 percentil\" );\n",
    "hline!( y2, line = ( 3, [ :green ] ), lab = \"mean\" );\n",
    "hline!( y3, line = ( 3, [ :black ] ), lab = \"thr QQ\");"
   ]
  }
 ],
 "metadata": {
  "kernelspec": {
   "display_name": "Julia 1.3.1",
   "language": "julia",
   "name": "julia-1.3"
  },
  "language_info": {
   "file_extension": ".jl",
   "mimetype": "application/julia",
   "name": "julia",
   "version": "1.3.1"
  }
 },
 "nbformat": 4,
 "nbformat_minor": 2
}
