{
 "cells": [
  {
   "cell_type": "code",
   "execution_count": null,
   "metadata": {},
   "outputs": [],
   "source": [
    "#### Detección de canales activos\n",
    "#=\n",
    "Procesos:\n",
    "1. umbral estático\n",
    "    1.1 umbral estático con filtrado Gausiano *But actually right now\n",
    "    1.2 umbral estático con filtrado pasa altos\n",
    "    1.3 umbral estático en trazos crudos\n",
    "    1.4 los tres pasos anteriores con depuración de actividad por frames\n",
    "2. umbral dinámico (ventanas deslizantes)\n",
    "    2.1 umbral dinámico con filtrado Gaussiano\n",
    "    2.2 umbral dinámico con filtrado pasa altos\n",
    "    2.3 umbral dinámico en trazos crudos\n",
    "    2.4 los tres pasos anteriores con depuración de actividad por frames\n",
    "3. Otsu\n",
    "    3.1 Otsu por ventanas de n duración en trazo crudo\n",
    "    3.2 Otsu por ventanas de n duración en filtro gausiano\n",
    "    3.3 Otsu por ventanas de n duración en filtro pasa altos\n",
    "4. WPD\n",
    "    4.1 WPD en trazo crudo\n",
    "    4.2 WPD en trazo con picos anulados\n",
    "5. Detección de máximos locales\n",
    "    5.1 Detección de máximos locales en ventanas de n duración\n",
    "6. Selección \n",
    "    6.1 Selección de algoritmos no ruidosos\n",
    "    6.2 Merge de algoritmos no ruidosos\n",
    "7. (Opcional) Seleccion de grupos\n",
    "    7.1 Selección de grupos con mayor número de elementos (anulación de islas)\n",
    "8. Asignación\n",
    "    8.1 Clustering?\n",
    "=#"
   ]
  },
  {
   "cell_type": "code",
   "execution_count": 24,
   "metadata": {},
   "outputs": [],
   "source": [
    "SCPpath = \"/home/isabel/Dropbox/Proyects/Romero-Gutierrez/SCP/\" # path to SCPs\n",
    "cd( SCPpath )\n",
    "push!( LOAD_PATH, \".\" ); # folder que continen los modulos. Correr desde ahí dentro.\n",
    "using AllFunctions # modulo personal\n",
    "#\n",
    "using JLD, DSP; # packages"
   ]
  },
  {
   "cell_type": "code",
   "execution_count": 25,
   "metadata": {},
   "outputs": [],
   "source": [
    "Γ = OS( \"linux\" ); # For the path. (Usefull for new path associations)\n",
    "\n",
    "BRWname = \"/home/isabel/Desktop/200819/acido_01.brw\" # name of the mother experiment\n",
    "SamplingRate = brw_things( BRWname )[ \"SamplingRate\" ]; # ...Sampling Rate...\n",
    "\n",
    "# folder with the fragments of the entire experiement, \n",
    "# in this particular case without saturations, removed on pre-processing 02\n",
    "JLDfolder = \"/home/isabel/Desktop/200819/acido_01/NoSat/\"; \n",
    "JLDfiles = find_files( JLDfolder, \"jld\", Γ); # find path of every file into that folder"
   ]
  },
  {
   "cell_type": "code",
   "execution_count": 26,
   "metadata": {},
   "outputs": [],
   "source": [
    "Γ = OS( \"linux\" ); # For the path. (Usefull for new path associations)\n",
    "BRWpath = \"/home/isabel/Desktop/200819/\"; # path to all the brw experiment files"
   ]
  },
  {
   "cell_type": "code",
   "execution_count": 28,
   "metadata": {},
   "outputs": [],
   "source": [
    "PPpath = find_dirs( BRWpath, Γ )[ 1 ]; # folder for one specific experiment (first one)\n",
    "BRWname =  string(PPpath,\".brw\"); # name of the brw experiment file. For variables\n",
    "# Path with the fragments without saturations \n",
    "# 1 = NoSat, output of preprocesamiento 02 \n",
    "# 2 = totally Raw, output of preprocesamiento 01\n",
    "JLDpath = find_dirs( PPpath, Γ )[ 1 ];\n",
    "JLDfiles = find_files( JLDpath, \"jld\", Γ);"
   ]
  },
  {
   "cell_type": "code",
   "execution_count": 32,
   "metadata": {},
   "outputs": [],
   "source": [
    "RAWdata = load(JLDfiles[ 1 ])[\"data\"];"
   ]
  },
  {
   "cell_type": "code",
   "execution_count": 34,
   "metadata": {},
   "outputs": [],
   "source": []
  },
  {
   "cell_type": "code",
   "execution_count": null,
   "metadata": {},
   "outputs": [],
   "source": []
  },
  {
   "cell_type": "code",
   "execution_count": null,
   "metadata": {},
   "outputs": [],
   "source": []
  },
  {
   "cell_type": "code",
   "execution_count": null,
   "metadata": {},
   "outputs": [],
   "source": []
  },
  {
   "cell_type": "code",
   "execution_count": null,
   "metadata": {},
   "outputs": [],
   "source": []
  },
  {
   "cell_type": "code",
   "execution_count": null,
   "metadata": {},
   "outputs": [],
   "source": []
  },
  {
   "cell_type": "code",
   "execution_count": null,
   "metadata": {},
   "outputs": [],
   "source": []
  },
  {
   "cell_type": "code",
   "execution_count": null,
   "metadata": {},
   "outputs": [],
   "source": []
  },
  {
   "cell_type": "code",
   "execution_count": null,
   "metadata": {},
   "outputs": [],
   "source": []
  },
  {
   "cell_type": "code",
   "execution_count": null,
   "metadata": {},
   "outputs": [],
   "source": []
  },
  {
   "cell_type": "code",
   "execution_count": null,
   "metadata": {},
   "outputs": [],
   "source": []
  },
  {
   "cell_type": "code",
   "execution_count": null,
   "metadata": {},
   "outputs": [],
   "source": []
  },
  {
   "cell_type": "code",
   "execution_count": null,
   "metadata": {},
   "outputs": [],
   "source": []
  }
 ],
 "metadata": {
  "kernelspec": {
   "display_name": "Julia 1.3.0",
   "language": "julia",
   "name": "julia-1.3"
  },
  "language_info": {
   "file_extension": ".jl",
   "mimetype": "application/julia",
   "name": "julia",
   "version": "1.3.1"
  }
 },
 "nbformat": 4,
 "nbformat_minor": 2
}
